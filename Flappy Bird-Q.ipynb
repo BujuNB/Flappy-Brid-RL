{
 "cells": [
  {
   "cell_type": "code",
   "execution_count": 2,
   "metadata": {},
   "outputs": [],
   "source": [
    "import gym\n",
    "import gym_ple\n",
    "import numpy as np\n",
    "import matplotlib.pyplot as plt\n",
    "%matplotlib inline\n",
    "import ast\n",
    "from JSAnimation.IPython_display import display_animation\n",
    "from matplotlib import animation\n",
    "from IPython.display import display\n",
    "import time \n",
    "env = gym.make('FlappyBird-v0')"
   ]
  },
  {
   "cell_type": "code",
   "execution_count": 26,
   "metadata": {},
   "outputs": [],
   "source": [
    "# function used to get frames for each step of action\n",
    "def get_frames(env, agent, steps):\n",
    "    observation = env.reset()\n",
    "    frames = []\n",
    "    score = 0\n",
    "    # render into buffer\n",
    "    frames.append(env.render(mode = 'rgb_array'))\n",
    "    for step in range(steps):\n",
    "        state = get_state(env)\n",
    "        action = agent.choose_action(state, enable_greedy = False)\n",
    "        observation, reward, done, info = env.step(action)\n",
    "        # render into buffer\n",
    "        frames.append(env.render(mode = 'rgb_array'))\n",
    "        if reward == 1:\n",
    "            score += 1\n",
    "        if done:\n",
    "            print('Game Over!')\n",
    "            break        \n",
    "    return score, frames\n",
    "\n",
    "\n",
    "# function used to save the frames as animation and gif for displaying\n",
    "def display_frames_as_gif(frames):\n",
    "    patch = plt.imshow(frames[0])\n",
    "    plt.axis('off')\n",
    "    \n",
    "    def animate(i):\n",
    "        patch.set_data(frames[i])\n",
    "        \n",
    "    anim = animation.FuncAnimation(plt.gcf(), animate, frames = len(frames), interval=50)\n",
    "    gif = display_animation(anim, default_mode='loop')\n",
    "    \n",
    "    return anim, gif"
   ]
  },
  {
   "cell_type": "code",
   "execution_count": 4,
   "metadata": {},
   "outputs": [],
   "source": [
    "# function used to get state not including next next pipe state\n",
    "def get_state(env):\n",
    "    info =  vars(env)['env'].game_state.game.getGameState()\n",
    "    # height between the bird's y and next pipe's top y\n",
    "    dist_to_pipe_bottom = info['player_y'] - info['next_pipe_top_y']\n",
    "    # distance between the bird's x and next pipe's x\n",
    "    dist_to_pipe_horz = info['next_pipe_dist_to_player']\n",
    "    # velocity\n",
    "    velocity = info['player_vel']\n",
    "    \n",
    "    # make a height category of height between the bird's y and next pipe's bottom y\n",
    "    if dist_to_pipe_bottom < 8:     # very close or less than 0\n",
    "        height_category = 0\n",
    "    elif dist_to_pipe_bottom < 20:  # close\n",
    "        height_category = 1\n",
    "    elif dist_to_pipe_bottom < 50:  # not close\n",
    "        height_category = 2\n",
    "    elif dist_to_pipe_bottom < 125: # mid\n",
    "        height_category = 3\n",
    "    elif dist_to_pipe_bottom < 250: # far\n",
    "        height_category = 4\n",
    "    else:\n",
    "        height_category = 5\n",
    "\n",
    "    # make a distance category \n",
    "    if dist_to_pipe_horz < 8:     # very close\n",
    "        dist_category = 0\n",
    "    elif dist_to_pipe_horz < 20:  # close\n",
    "        dist_category = 1\n",
    "    elif dist_to_pipe_horz < 50:  # not close\n",
    "        dist_category = 2\n",
    "    elif dist_to_pipe_horz < 125: # mid \n",
    "        dist_category = 3\n",
    "    elif dist_to_pipe_horz < 250: # far\n",
    "        dist_category = 4\n",
    "    else:\n",
    "        dist_category = 5\n",
    "        \n",
    "    state = (height_category, dist_category, velocity)\n",
    "    \n",
    "    return state"
   ]
  },
  {
   "cell_type": "code",
   "execution_count": 5,
   "metadata": {},
   "outputs": [],
   "source": [
    "class Q_Agent:\n",
    "    def __init__(self, fname = None, alpha = 0.7, greedy = 0.8):\n",
    "        self.alpha = alpha\n",
    "        self.greedy = greedy\n",
    "        self.action_space = [0,1] # 0 for jump, 1 for stay\n",
    "        self.r = {0: 1, 1: 1, -5: -1000, -4: -1000}\n",
    "        self.score = {0: 0, 1: 1, -5: 0, -4: 1}\n",
    "        if fname is None:\n",
    "            self.q = {}\n",
    "        else:\n",
    "            # load q table from files\n",
    "            self.read_q(fname)\n",
    "    \n",
    "    \n",
    "    # make the epsilon rate decreased by time\n",
    "    def update_para(self, t):\n",
    "        self.greedy = self.greedy/t\n",
    "  \n",
    "\n",
    "    # get q value, if the key is not exist (since initial the q table as empty dictionary), initial its value as 0\n",
    "    def getQ(self, state, action):\n",
    "        if self.q.get((state, action)) is None:\n",
    "            self.q[(state, action)] = 0\n",
    "            \n",
    "        return self.q.get((state, action))\n",
    "    \n",
    "    \n",
    "    def choose_action(self, state, enable_greedy = True):\n",
    "        # enable_greedy = False is used for test only, never make the non-greedy move\n",
    "        # default as True, have a probability to make the non-greedy move\n",
    "        if enable_greedy:\n",
    "            if np.random.rand(1) < self.greedy:\n",
    "                # choose not greedy action \n",
    "                chosen_action = np.random.choice(self.action_space)\n",
    "            else:\n",
    "                # choose greedy action according to Q table\n",
    "                # get the maximum Q value of the current state\n",
    "                max_q = np.array([self.getQ(state, p_action) for p_action in self.action_space]).max()\n",
    "                # create= a current dictionary which is a part of Q table to avoid of different state, \n",
    "                # but same q value\n",
    "                current_key = [(state, p_action) for p_action in self.action_space]\n",
    "                new_d = {key:self.q[key] for key in current_key}\n",
    "                # choose the action, if there are several actions, choose randomly\n",
    "                choices = [key for key in new_d.keys() if new_d[key]==max_q]  \n",
    "                chosen_action = choices[np.random.choice(len(choices))][1]\n",
    "        else:\n",
    "            # choose greedy action according to Q table\n",
    "            # get the maximum Q value of the current state\n",
    "            max_q = np.array([self.getQ(state, p_action) for p_action in self.action_space]).max()\n",
    "            # create= a current dictionary which is a part of Q table to avoid of different state, \n",
    "            # but same q value\n",
    "            current_key = [(state, p_action) for p_action in self.action_space]\n",
    "            new_d = {key:self.q[key] for key in current_key}\n",
    "            # choose the action, if there are several actions, choose randomly\n",
    "            choices = [key for key in new_d.keys() if new_d[key]==max_q]  \n",
    "            chosen_action = choices[np.random.choice(len(choices))][1]\n",
    "            \n",
    "        return chosen_action\n",
    "    \n",
    "    \n",
    "    def Q_learn(self, old_state, new_state, action, reward):\n",
    "        max_value = np.array([self.getQ(new_state, p_action) for p_action in self.action_space]).max()\n",
    "        self.q[(old_state,action)] = (1-self.alpha)*self.getQ(old_state,action)+self.alpha*(reward+max_value)\n",
    "        \n",
    "        \n",
    "    # save q table in a file, so we can load it back in later\n",
    "    def save_q(self, fname):\n",
    "        f = open(fname, \"w\")\n",
    "        f.write(str(self.q))\n",
    "        f.close()\n",
    "        \n",
    "        \n",
    "    # load saved q table\n",
    "    def read_q(self, fname):\n",
    "        with open(fname, 'r') as f:\n",
    "            data_string = f.read()\n",
    "            data_dict = ast.literal_eval(data_string)\n",
    "            self.q = data_dict"
   ]
  },
  {
   "cell_type": "code",
   "execution_count": 6,
   "metadata": {},
   "outputs": [],
   "source": [
    "def simulate_Q(env, agent, episodes):\n",
    "    record = np.zeros(episodes)\n",
    "    for episode in range(episodes):\n",
    "        total_score = 0\n",
    "        _ = env.reset()\n",
    "        # make the epsilon rate decreased by time\n",
    "        agent.update_para(episode+1)\n",
    "        while vars(env)['env'].game_state.game_over() == False:\n",
    "            old_state = get_state(env)\n",
    "            chosen_action = agent.choose_action(old_state)\n",
    "            _,reward,_,_ = env.step(chosen_action)\n",
    "            total_score += agent.score[reward]\n",
    "            # redefine reward from the gym package\n",
    "            real_reward = agent.r[reward]\n",
    "            new_state = get_state(env)\n",
    "            agent.Q_learn(old_state,new_state,chosen_action,real_reward)\n",
    "            \n",
    "        record[episode] = total_score\n",
    "        percent = 100*(episode+1)/episodes\n",
    "        if percent%10 == 0:\n",
    "            print('Train',percent,'% percentage')\n",
    "            \n",
    "    return record"
   ]
  },
  {
   "cell_type": "code",
   "execution_count": 7,
   "metadata": {},
   "outputs": [
    {
     "name": "stdout",
     "output_type": "stream",
     "text": [
      "Train 10.0 % percentage\n",
      "Train 20.0 % percentage\n",
      "Train 30.0 % percentage\n",
      "Train 40.0 % percentage\n",
      "Train 50.0 % percentage\n",
      "Train 60.0 % percentage\n",
      "Train 70.0 % percentage\n",
      "Train 80.0 % percentage\n",
      "Train 90.0 % percentage\n",
      "Train 100.0 % percentage\n"
     ]
    }
   ],
   "source": [
    "episodes = 2000\n",
    "agent = Q_Agent()\n",
    "score_record = simulate_Q(env, agent, episodes)"
   ]
  },
  {
   "cell_type": "code",
   "execution_count": 8,
   "metadata": {},
   "outputs": [
    {
     "data": {
      "image/png": "[encoded data removed]",
      "text/plain": [
       "<matplotlib.figure.Figure at 0x106956e10>"
      ]
     },
     "metadata": {},
     "output_type": "display_data"
    }
   ],
   "source": [
    "plt.scatter(np.arange(episodes), score_record, c='r', s=5)\n",
    "plt.xlabel('Episodes')\n",
    "plt.ylabel('Score for each episode')\n",
    "plt.title('Learning Curve for Q learning agent')\n",
    "plt.savefig('output_fig.png')"
   ]
  },
  {
   "cell_type": "code",
   "execution_count": null,
   "metadata": {},
   "outputs": [],
   "source": []
  },
  {
   "cell_type": "code",
   "execution_count": null,
   "metadata": {},
   "outputs": [],
   "source": [
    "# test demo\n",
    "agent = Q_Agent('qtable.txt')\n",
    "score, frames = get_frames(env, agent, 9999999)\n",
    "print('The total score is', score)\n",
    "anim, gif = display_frames_as_gif(frames)\n",
    "display(gif)"
   ]
  },
  {
   "cell_type": "code",
   "execution_count": 14,
   "metadata": {},
   "outputs": [],
   "source": [
    "#anim.save('test.avi')"
   ]
  },
  {
   "cell_type": "code",
   "execution_count": 32,
   "metadata": {},
   "outputs": [],
   "source": [
    "#agent.save_q('qtable.txt')"
   ]
  },
  {
   "cell_type": "code",
   "execution_count": null,
   "metadata": {},
   "outputs": [],
   "source": [
    "#agent = Q_Agent('qtable.txt')"
   ]
  },
  {
   "cell_type": "code",
   "execution_count": null,
   "metadata": {},
   "outputs": [],
   "source": []
  },
  {
   "cell_type": "code",
   "execution_count": null,
   "metadata": {},
   "outputs": [],
   "source": []
  },
  {
   "cell_type": "code",
   "execution_count": null,
   "metadata": {},
   "outputs": [],
   "source": []
  }
 ],
 "metadata": {
  "kernelspec": {
   "display_name": "Python 3",
   "language": "python",
   "name": "python3"
  },
  "language_info": {
   "codemirror_mode": {
    "name": "ipython",
    "version": 3
   },
   "file_extension": ".py",
   "mimetype": "text/x-python",
   "name": "python",
   "nbconvert_exporter": "python",
   "pygments_lexer": "ipython3",
   "version": "3.6.2"
  }
 },
 "nbformat": 4,
 "nbformat_minor": 2
}
